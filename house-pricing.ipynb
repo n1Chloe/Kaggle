{
 "cells": [
  {
   "cell_type": "code",
   "execution_count": 1,
   "id": "277efcb1",
   "metadata": {
    "_cell_guid": "b1076dfc-b9ad-4769-8c92-a6c4dae69d19",
    "_uuid": "8f2839f25d086af736a60e9eeb907d3b93b6e0e5",
    "execution": {
     "iopub.execute_input": "2023-05-30T15:24:41.177656Z",
     "iopub.status.busy": "2023-05-30T15:24:41.177223Z",
     "iopub.status.idle": "2023-05-30T15:24:43.504512Z",
     "shell.execute_reply": "2023-05-30T15:24:43.503008Z"
    },
    "papermill": {
     "duration": 2.342834,
     "end_time": "2023-05-30T15:24:43.507994",
     "exception": false,
     "start_time": "2023-05-30T15:24:41.165160",
     "status": "completed"
    },
    "tags": []
   },
   "outputs": [
    {
     "name": "stderr",
     "output_type": "stream",
     "text": [
      "/opt/conda/lib/python3.10/site-packages/scipy/__init__.py:146: UserWarning: A NumPy version >=1.16.5 and <1.23.0 is required for this version of SciPy (detected version 1.23.5\n",
      "  warnings.warn(f\"A NumPy version >={np_minversion} and <{np_maxversion}\"\n"
     ]
    },
    {
     "name": "stdout",
     "output_type": "stream",
     "text": [
      "/kaggle/input/house-prices-advanced-regression-techniques/sample_submission.csv\n",
      "/kaggle/input/house-prices-advanced-regression-techniques/data_description.txt\n",
      "/kaggle/input/house-prices-advanced-regression-techniques/train.csv\n",
      "/kaggle/input/house-prices-advanced-regression-techniques/test.csv\n"
     ]
    }
   ],
   "source": [
    "# This Python 3 environment comes with many helpful analytics libraries installed\n",
    "# It is defined by the kaggle/python Docker image: https://github.com/kaggle/docker-python\n",
    "# For example, here's several helpful packages to load\n",
    "\n",
    "import numpy as np\n",
    "import pandas as pd\n",
    "from sklearn.preprocessing import LabelEncoder\n",
    "import category_encoders as ce\n",
    "from sklearn.impute import SimpleImputer\n",
    "\n",
    "# Input data files are available in the read-only \"../input/\" directory\n",
    "# For example, running this (by clicking run or pressing Shift+Enter) will list all files under the input directory\n",
    "\n",
    "import os\n",
    "for dirname, _, filenames in os.walk('/kaggle/input'):\n",
    "    for filename in filenames:\n",
    "        print(os.path.join(dirname, filename))\n",
    "\n",
    "# You can write up to 20GB to the current directory (/kaggle/working/) that gets preserved as output when you create a version using \"Save & Run All\" \n",
    "# You can also write temporary files to /kaggle/temp/, but they won't be saved outside of the current session"
   ]
  },
  {
   "cell_type": "code",
   "execution_count": 2,
   "id": "93ea0cd6",
   "metadata": {
    "execution": {
     "iopub.execute_input": "2023-05-30T15:24:43.530337Z",
     "iopub.status.busy": "2023-05-30T15:24:43.529882Z",
     "iopub.status.idle": "2023-05-30T15:24:43.630450Z",
     "shell.execute_reply": "2023-05-30T15:24:43.629017Z"
    },
    "papermill": {
     "duration": 0.115324,
     "end_time": "2023-05-30T15:24:43.633524",
     "exception": false,
     "start_time": "2023-05-30T15:24:43.518200",
     "status": "completed"
    },
    "tags": []
   },
   "outputs": [],
   "source": [
    "house_train = pd.read_csv('/kaggle/input/house-prices-advanced-regression-techniques/train.csv')\n",
    "house_test = pd.read_csv('/kaggle/input/house-prices-advanced-regression-techniques/test.csv')"
   ]
  },
  {
   "cell_type": "code",
   "execution_count": 3,
   "id": "17d83a4d",
   "metadata": {
    "execution": {
     "iopub.execute_input": "2023-05-30T15:24:43.655017Z",
     "iopub.status.busy": "2023-05-30T15:24:43.654598Z",
     "iopub.status.idle": "2023-05-30T15:24:43.714574Z",
     "shell.execute_reply": "2023-05-30T15:24:43.712993Z"
    },
    "papermill": {
     "duration": 0.074068,
     "end_time": "2023-05-30T15:24:43.717423",
     "exception": false,
     "start_time": "2023-05-30T15:24:43.643355",
     "status": "completed"
    },
    "tags": []
   },
   "outputs": [
    {
     "data": {
      "text/html": [
       "<div>\n",
       "<style scoped>\n",
       "    .dataframe tbody tr th:only-of-type {\n",
       "        vertical-align: middle;\n",
       "    }\n",
       "\n",
       "    .dataframe tbody tr th {\n",
       "        vertical-align: top;\n",
       "    }\n",
       "\n",
       "    .dataframe thead th {\n",
       "        text-align: right;\n",
       "    }\n",
       "</style>\n",
       "<table border=\"1\" class=\"dataframe\">\n",
       "  <thead>\n",
       "    <tr style=\"text-align: right;\">\n",
       "      <th></th>\n",
       "      <th>Id</th>\n",
       "      <th>MSSubClass</th>\n",
       "      <th>MSZoning</th>\n",
       "      <th>LotFrontage</th>\n",
       "      <th>LotArea</th>\n",
       "      <th>Street</th>\n",
       "      <th>Alley</th>\n",
       "      <th>LotShape</th>\n",
       "      <th>LandContour</th>\n",
       "      <th>Utilities</th>\n",
       "      <th>...</th>\n",
       "      <th>ScreenPorch</th>\n",
       "      <th>PoolArea</th>\n",
       "      <th>PoolQC</th>\n",
       "      <th>Fence</th>\n",
       "      <th>MiscFeature</th>\n",
       "      <th>MiscVal</th>\n",
       "      <th>MoSold</th>\n",
       "      <th>YrSold</th>\n",
       "      <th>SaleType</th>\n",
       "      <th>SaleCondition</th>\n",
       "    </tr>\n",
       "  </thead>\n",
       "  <tbody>\n",
       "    <tr>\n",
       "      <th>0</th>\n",
       "      <td>1461</td>\n",
       "      <td>20</td>\n",
       "      <td>RH</td>\n",
       "      <td>80.0</td>\n",
       "      <td>11622</td>\n",
       "      <td>Pave</td>\n",
       "      <td>NaN</td>\n",
       "      <td>Reg</td>\n",
       "      <td>Lvl</td>\n",
       "      <td>AllPub</td>\n",
       "      <td>...</td>\n",
       "      <td>120</td>\n",
       "      <td>0</td>\n",
       "      <td>NaN</td>\n",
       "      <td>MnPrv</td>\n",
       "      <td>NaN</td>\n",
       "      <td>0</td>\n",
       "      <td>6</td>\n",
       "      <td>2010</td>\n",
       "      <td>WD</td>\n",
       "      <td>Normal</td>\n",
       "    </tr>\n",
       "    <tr>\n",
       "      <th>1</th>\n",
       "      <td>1462</td>\n",
       "      <td>20</td>\n",
       "      <td>RL</td>\n",
       "      <td>81.0</td>\n",
       "      <td>14267</td>\n",
       "      <td>Pave</td>\n",
       "      <td>NaN</td>\n",
       "      <td>IR1</td>\n",
       "      <td>Lvl</td>\n",
       "      <td>AllPub</td>\n",
       "      <td>...</td>\n",
       "      <td>0</td>\n",
       "      <td>0</td>\n",
       "      <td>NaN</td>\n",
       "      <td>NaN</td>\n",
       "      <td>Gar2</td>\n",
       "      <td>12500</td>\n",
       "      <td>6</td>\n",
       "      <td>2010</td>\n",
       "      <td>WD</td>\n",
       "      <td>Normal</td>\n",
       "    </tr>\n",
       "    <tr>\n",
       "      <th>2</th>\n",
       "      <td>1463</td>\n",
       "      <td>60</td>\n",
       "      <td>RL</td>\n",
       "      <td>74.0</td>\n",
       "      <td>13830</td>\n",
       "      <td>Pave</td>\n",
       "      <td>NaN</td>\n",
       "      <td>IR1</td>\n",
       "      <td>Lvl</td>\n",
       "      <td>AllPub</td>\n",
       "      <td>...</td>\n",
       "      <td>0</td>\n",
       "      <td>0</td>\n",
       "      <td>NaN</td>\n",
       "      <td>MnPrv</td>\n",
       "      <td>NaN</td>\n",
       "      <td>0</td>\n",
       "      <td>3</td>\n",
       "      <td>2010</td>\n",
       "      <td>WD</td>\n",
       "      <td>Normal</td>\n",
       "    </tr>\n",
       "    <tr>\n",
       "      <th>3</th>\n",
       "      <td>1464</td>\n",
       "      <td>60</td>\n",
       "      <td>RL</td>\n",
       "      <td>78.0</td>\n",
       "      <td>9978</td>\n",
       "      <td>Pave</td>\n",
       "      <td>NaN</td>\n",
       "      <td>IR1</td>\n",
       "      <td>Lvl</td>\n",
       "      <td>AllPub</td>\n",
       "      <td>...</td>\n",
       "      <td>0</td>\n",
       "      <td>0</td>\n",
       "      <td>NaN</td>\n",
       "      <td>NaN</td>\n",
       "      <td>NaN</td>\n",
       "      <td>0</td>\n",
       "      <td>6</td>\n",
       "      <td>2010</td>\n",
       "      <td>WD</td>\n",
       "      <td>Normal</td>\n",
       "    </tr>\n",
       "    <tr>\n",
       "      <th>4</th>\n",
       "      <td>1465</td>\n",
       "      <td>120</td>\n",
       "      <td>RL</td>\n",
       "      <td>43.0</td>\n",
       "      <td>5005</td>\n",
       "      <td>Pave</td>\n",
       "      <td>NaN</td>\n",
       "      <td>IR1</td>\n",
       "      <td>HLS</td>\n",
       "      <td>AllPub</td>\n",
       "      <td>...</td>\n",
       "      <td>144</td>\n",
       "      <td>0</td>\n",
       "      <td>NaN</td>\n",
       "      <td>NaN</td>\n",
       "      <td>NaN</td>\n",
       "      <td>0</td>\n",
       "      <td>1</td>\n",
       "      <td>2010</td>\n",
       "      <td>WD</td>\n",
       "      <td>Normal</td>\n",
       "    </tr>\n",
       "    <tr>\n",
       "      <th>...</th>\n",
       "      <td>...</td>\n",
       "      <td>...</td>\n",
       "      <td>...</td>\n",
       "      <td>...</td>\n",
       "      <td>...</td>\n",
       "      <td>...</td>\n",
       "      <td>...</td>\n",
       "      <td>...</td>\n",
       "      <td>...</td>\n",
       "      <td>...</td>\n",
       "      <td>...</td>\n",
       "      <td>...</td>\n",
       "      <td>...</td>\n",
       "      <td>...</td>\n",
       "      <td>...</td>\n",
       "      <td>...</td>\n",
       "      <td>...</td>\n",
       "      <td>...</td>\n",
       "      <td>...</td>\n",
       "      <td>...</td>\n",
       "      <td>...</td>\n",
       "    </tr>\n",
       "    <tr>\n",
       "      <th>1454</th>\n",
       "      <td>2915</td>\n",
       "      <td>160</td>\n",
       "      <td>RM</td>\n",
       "      <td>21.0</td>\n",
       "      <td>1936</td>\n",
       "      <td>Pave</td>\n",
       "      <td>NaN</td>\n",
       "      <td>Reg</td>\n",
       "      <td>Lvl</td>\n",
       "      <td>AllPub</td>\n",
       "      <td>...</td>\n",
       "      <td>0</td>\n",
       "      <td>0</td>\n",
       "      <td>NaN</td>\n",
       "      <td>NaN</td>\n",
       "      <td>NaN</td>\n",
       "      <td>0</td>\n",
       "      <td>6</td>\n",
       "      <td>2006</td>\n",
       "      <td>WD</td>\n",
       "      <td>Normal</td>\n",
       "    </tr>\n",
       "    <tr>\n",
       "      <th>1455</th>\n",
       "      <td>2916</td>\n",
       "      <td>160</td>\n",
       "      <td>RM</td>\n",
       "      <td>21.0</td>\n",
       "      <td>1894</td>\n",
       "      <td>Pave</td>\n",
       "      <td>NaN</td>\n",
       "      <td>Reg</td>\n",
       "      <td>Lvl</td>\n",
       "      <td>AllPub</td>\n",
       "      <td>...</td>\n",
       "      <td>0</td>\n",
       "      <td>0</td>\n",
       "      <td>NaN</td>\n",
       "      <td>NaN</td>\n",
       "      <td>NaN</td>\n",
       "      <td>0</td>\n",
       "      <td>4</td>\n",
       "      <td>2006</td>\n",
       "      <td>WD</td>\n",
       "      <td>Abnorml</td>\n",
       "    </tr>\n",
       "    <tr>\n",
       "      <th>1456</th>\n",
       "      <td>2917</td>\n",
       "      <td>20</td>\n",
       "      <td>RL</td>\n",
       "      <td>160.0</td>\n",
       "      <td>20000</td>\n",
       "      <td>Pave</td>\n",
       "      <td>NaN</td>\n",
       "      <td>Reg</td>\n",
       "      <td>Lvl</td>\n",
       "      <td>AllPub</td>\n",
       "      <td>...</td>\n",
       "      <td>0</td>\n",
       "      <td>0</td>\n",
       "      <td>NaN</td>\n",
       "      <td>NaN</td>\n",
       "      <td>NaN</td>\n",
       "      <td>0</td>\n",
       "      <td>9</td>\n",
       "      <td>2006</td>\n",
       "      <td>WD</td>\n",
       "      <td>Abnorml</td>\n",
       "    </tr>\n",
       "    <tr>\n",
       "      <th>1457</th>\n",
       "      <td>2918</td>\n",
       "      <td>85</td>\n",
       "      <td>RL</td>\n",
       "      <td>62.0</td>\n",
       "      <td>10441</td>\n",
       "      <td>Pave</td>\n",
       "      <td>NaN</td>\n",
       "      <td>Reg</td>\n",
       "      <td>Lvl</td>\n",
       "      <td>AllPub</td>\n",
       "      <td>...</td>\n",
       "      <td>0</td>\n",
       "      <td>0</td>\n",
       "      <td>NaN</td>\n",
       "      <td>MnPrv</td>\n",
       "      <td>Shed</td>\n",
       "      <td>700</td>\n",
       "      <td>7</td>\n",
       "      <td>2006</td>\n",
       "      <td>WD</td>\n",
       "      <td>Normal</td>\n",
       "    </tr>\n",
       "    <tr>\n",
       "      <th>1458</th>\n",
       "      <td>2919</td>\n",
       "      <td>60</td>\n",
       "      <td>RL</td>\n",
       "      <td>74.0</td>\n",
       "      <td>9627</td>\n",
       "      <td>Pave</td>\n",
       "      <td>NaN</td>\n",
       "      <td>Reg</td>\n",
       "      <td>Lvl</td>\n",
       "      <td>AllPub</td>\n",
       "      <td>...</td>\n",
       "      <td>0</td>\n",
       "      <td>0</td>\n",
       "      <td>NaN</td>\n",
       "      <td>NaN</td>\n",
       "      <td>NaN</td>\n",
       "      <td>0</td>\n",
       "      <td>11</td>\n",
       "      <td>2006</td>\n",
       "      <td>WD</td>\n",
       "      <td>Normal</td>\n",
       "    </tr>\n",
       "  </tbody>\n",
       "</table>\n",
       "<p>1459 rows × 80 columns</p>\n",
       "</div>"
      ],
      "text/plain": [
       "        Id  MSSubClass MSZoning  LotFrontage  LotArea Street Alley LotShape  \\\n",
       "0     1461          20       RH         80.0    11622   Pave   NaN      Reg   \n",
       "1     1462          20       RL         81.0    14267   Pave   NaN      IR1   \n",
       "2     1463          60       RL         74.0    13830   Pave   NaN      IR1   \n",
       "3     1464          60       RL         78.0     9978   Pave   NaN      IR1   \n",
       "4     1465         120       RL         43.0     5005   Pave   NaN      IR1   \n",
       "...    ...         ...      ...          ...      ...    ...   ...      ...   \n",
       "1454  2915         160       RM         21.0     1936   Pave   NaN      Reg   \n",
       "1455  2916         160       RM         21.0     1894   Pave   NaN      Reg   \n",
       "1456  2917          20       RL        160.0    20000   Pave   NaN      Reg   \n",
       "1457  2918          85       RL         62.0    10441   Pave   NaN      Reg   \n",
       "1458  2919          60       RL         74.0     9627   Pave   NaN      Reg   \n",
       "\n",
       "     LandContour Utilities  ... ScreenPorch PoolArea PoolQC  Fence  \\\n",
       "0            Lvl    AllPub  ...         120        0    NaN  MnPrv   \n",
       "1            Lvl    AllPub  ...           0        0    NaN    NaN   \n",
       "2            Lvl    AllPub  ...           0        0    NaN  MnPrv   \n",
       "3            Lvl    AllPub  ...           0        0    NaN    NaN   \n",
       "4            HLS    AllPub  ...         144        0    NaN    NaN   \n",
       "...          ...       ...  ...         ...      ...    ...    ...   \n",
       "1454         Lvl    AllPub  ...           0        0    NaN    NaN   \n",
       "1455         Lvl    AllPub  ...           0        0    NaN    NaN   \n",
       "1456         Lvl    AllPub  ...           0        0    NaN    NaN   \n",
       "1457         Lvl    AllPub  ...           0        0    NaN  MnPrv   \n",
       "1458         Lvl    AllPub  ...           0        0    NaN    NaN   \n",
       "\n",
       "     MiscFeature MiscVal MoSold  YrSold  SaleType  SaleCondition  \n",
       "0            NaN       0      6    2010        WD         Normal  \n",
       "1           Gar2   12500      6    2010        WD         Normal  \n",
       "2            NaN       0      3    2010        WD         Normal  \n",
       "3            NaN       0      6    2010        WD         Normal  \n",
       "4            NaN       0      1    2010        WD         Normal  \n",
       "...          ...     ...    ...     ...       ...            ...  \n",
       "1454         NaN       0      6    2006        WD         Normal  \n",
       "1455         NaN       0      4    2006        WD        Abnorml  \n",
       "1456         NaN       0      9    2006        WD        Abnorml  \n",
       "1457        Shed     700      7    2006        WD         Normal  \n",
       "1458         NaN       0     11    2006        WD         Normal  \n",
       "\n",
       "[1459 rows x 80 columns]"
      ]
     },
     "execution_count": 3,
     "metadata": {},
     "output_type": "execute_result"
    }
   ],
   "source": [
    "house_test"
   ]
  },
  {
   "cell_type": "code",
   "execution_count": 4,
   "id": "cd72393d",
   "metadata": {
    "execution": {
     "iopub.execute_input": "2023-05-30T15:24:43.741089Z",
     "iopub.status.busy": "2023-05-30T15:24:43.740641Z",
     "iopub.status.idle": "2023-05-30T15:24:43.748203Z",
     "shell.execute_reply": "2023-05-30T15:24:43.746446Z"
    },
    "papermill": {
     "duration": 0.022391,
     "end_time": "2023-05-30T15:24:43.750708",
     "exception": false,
     "start_time": "2023-05-30T15:24:43.728317",
     "status": "completed"
    },
    "tags": []
   },
   "outputs": [
    {
     "name": "stdout",
     "output_type": "stream",
     "text": [
      "Index(['Id', 'MSSubClass', 'MSZoning', 'LotFrontage', 'LotArea', 'Street',\n",
      "       'Alley', 'LotShape', 'LandContour', 'Utilities', 'LotConfig',\n",
      "       'LandSlope', 'Neighborhood', 'Condition1', 'Condition2', 'BldgType',\n",
      "       'HouseStyle', 'OverallQual', 'OverallCond', 'YearBuilt', 'YearRemodAdd',\n",
      "       'RoofStyle', 'RoofMatl', 'Exterior1st', 'Exterior2nd', 'MasVnrType',\n",
      "       'MasVnrArea', 'ExterQual', 'ExterCond', 'Foundation', 'BsmtQual',\n",
      "       'BsmtCond', 'BsmtExposure', 'BsmtFinType1', 'BsmtFinSF1',\n",
      "       'BsmtFinType2', 'BsmtFinSF2', 'BsmtUnfSF', 'TotalBsmtSF', 'Heating',\n",
      "       'HeatingQC', 'CentralAir', 'Electrical', '1stFlrSF', '2ndFlrSF',\n",
      "       'LowQualFinSF', 'GrLivArea', 'BsmtFullBath', 'BsmtHalfBath', 'FullBath',\n",
      "       'HalfBath', 'BedroomAbvGr', 'KitchenAbvGr', 'KitchenQual',\n",
      "       'TotRmsAbvGrd', 'Functional', 'Fireplaces', 'FireplaceQu', 'GarageType',\n",
      "       'GarageYrBlt', 'GarageFinish', 'GarageCars', 'GarageArea', 'GarageQual',\n",
      "       'GarageCond', 'PavedDrive', 'WoodDeckSF', 'OpenPorchSF',\n",
      "       'EnclosedPorch', '3SsnPorch', 'ScreenPorch', 'PoolArea', 'PoolQC',\n",
      "       'Fence', 'MiscFeature', 'MiscVal', 'MoSold', 'YrSold', 'SaleType',\n",
      "       'SaleCondition', 'SalePrice'],\n",
      "      dtype='object')\n"
     ]
    }
   ],
   "source": [
    "print(house_train.columns)"
   ]
  },
  {
   "cell_type": "code",
   "execution_count": 5,
   "id": "c3a0eb57",
   "metadata": {
    "execution": {
     "iopub.execute_input": "2023-05-30T15:24:43.774398Z",
     "iopub.status.busy": "2023-05-30T15:24:43.773529Z",
     "iopub.status.idle": "2023-05-30T15:24:43.804131Z",
     "shell.execute_reply": "2023-05-30T15:24:43.802332Z"
    },
    "papermill": {
     "duration": 0.045975,
     "end_time": "2023-05-30T15:24:43.807460",
     "exception": false,
     "start_time": "2023-05-30T15:24:43.761485",
     "status": "completed"
    },
    "tags": []
   },
   "outputs": [
    {
     "name": "stdout",
     "output_type": "stream",
     "text": [
      "Id                 0\n",
      "MSSubClass         0\n",
      "MSZoning           0\n",
      "LotFrontage      259\n",
      "LotArea            0\n",
      "                ... \n",
      "MoSold             0\n",
      "YrSold             0\n",
      "SaleType           0\n",
      "SaleCondition      0\n",
      "SalePrice          0\n",
      "Length: 81, dtype: int64\n"
     ]
    }
   ],
   "source": [
    "#print(house_train.isna().sum())\n",
    "#print(house_test.isna().sum())\n",
    "#house_train['MSZoning'].unique()\n",
    "#house_train['Street'].unique()\n",
    "#house_train['Alley'].unique()\n",
    "#print(house_train[\"Alley\"].isna().sum())\n",
    "#house_train['LotShape'].unique()\n",
    "#house_train['LandContour'].unique()\n",
    "#house_train['Utilities'].unique()\n",
    "#house_train['LotConfig'].unique()\n",
    "#house_train['LandSlope'].unique()\n",
    "#house_train['Neighborhood'].unique()\n",
    "#house_train['SaleType'].unique()\n",
    "#house_train['SaleCondition'].unique()\n",
    "#house_train['Condition1'].unique()\n",
    "#house_train['Condition2'].unique()\n",
    "#house_train['BldgType'].unique()\n",
    "print(house_train.isna().sum())"
   ]
  },
  {
   "cell_type": "code",
   "execution_count": 6,
   "id": "c94db9b2",
   "metadata": {
    "execution": {
     "iopub.execute_input": "2023-05-30T15:24:43.831703Z",
     "iopub.status.busy": "2023-05-30T15:24:43.831236Z",
     "iopub.status.idle": "2023-05-30T15:24:43.845799Z",
     "shell.execute_reply": "2023-05-30T15:24:43.844319Z"
    },
    "papermill": {
     "duration": 0.029276,
     "end_time": "2023-05-30T15:24:43.848317",
     "exception": false,
     "start_time": "2023-05-30T15:24:43.819041",
     "status": "completed"
    },
    "tags": []
   },
   "outputs": [],
   "source": [
    "label_encoder = LabelEncoder()\n",
    "house_train[\"MSZoningCategory\"] = label_encoder.fit_transform(house_train[\"MSZoning\"].astype(str))\n",
    "house_test[\"MSZoningCategory\"] = label_encoder.fit_transform(house_test[\"MSZoning\"].astype(str))\n",
    "del house_train[\"MSZoning\"]\n",
    "del house_test[\"MSZoning\"]"
   ]
  },
  {
   "cell_type": "code",
   "execution_count": 7,
   "id": "7d740904",
   "metadata": {
    "execution": {
     "iopub.execute_input": "2023-05-30T15:24:43.872532Z",
     "iopub.status.busy": "2023-05-30T15:24:43.871462Z",
     "iopub.status.idle": "2023-05-30T15:24:43.980858Z",
     "shell.execute_reply": "2023-05-30T15:24:43.979611Z"
    },
    "papermill": {
     "duration": 0.124509,
     "end_time": "2023-05-30T15:24:43.983860",
     "exception": false,
     "start_time": "2023-05-30T15:24:43.859351",
     "status": "completed"
    },
    "tags": []
   },
   "outputs": [],
   "source": [
    "ce_OHE = ce.OneHotEncoder(cols=['Street'])\n",
    "house_train = ce_OHE.fit_transform(house_train)\n",
    "house_test = ce_OHE.fit_transform(house_test)"
   ]
  },
  {
   "cell_type": "code",
   "execution_count": 8,
   "id": "7980b5f0",
   "metadata": {
    "execution": {
     "iopub.execute_input": "2023-05-30T15:24:44.007279Z",
     "iopub.status.busy": "2023-05-30T15:24:44.006866Z",
     "iopub.status.idle": "2023-05-30T15:24:44.014100Z",
     "shell.execute_reply": "2023-05-30T15:24:44.012804Z"
    },
    "papermill": {
     "duration": 0.02185,
     "end_time": "2023-05-30T15:24:44.016552",
     "exception": false,
     "start_time": "2023-05-30T15:24:43.994702",
     "status": "completed"
    },
    "tags": []
   },
   "outputs": [],
   "source": [
    "del house_train[\"Alley\"]\n",
    "del house_test[\"Alley\"]"
   ]
  },
  {
   "cell_type": "code",
   "execution_count": 9,
   "id": "9a12ac09",
   "metadata": {
    "execution": {
     "iopub.execute_input": "2023-05-30T15:24:44.040457Z",
     "iopub.status.busy": "2023-05-30T15:24:44.039618Z",
     "iopub.status.idle": "2023-05-30T15:24:44.051361Z",
     "shell.execute_reply": "2023-05-30T15:24:44.049861Z"
    },
    "papermill": {
     "duration": 0.026568,
     "end_time": "2023-05-30T15:24:44.053889",
     "exception": false,
     "start_time": "2023-05-30T15:24:44.027321",
     "status": "completed"
    },
    "tags": []
   },
   "outputs": [],
   "source": [
    "house_train[\"LotShapeCategory\"] = label_encoder.fit_transform(house_train[\"LotShape\"].astype(str))\n",
    "house_test[\"LotShapeCategory\"] = label_encoder.fit_transform(house_test[\"LotShape\"].astype(str))\n",
    "del house_train[\"LotShape\"]\n",
    "del house_test[\"LotShape\"]"
   ]
  },
  {
   "cell_type": "code",
   "execution_count": 10,
   "id": "40504460",
   "metadata": {
    "execution": {
     "iopub.execute_input": "2023-05-30T15:24:44.077312Z",
     "iopub.status.busy": "2023-05-30T15:24:44.076871Z",
     "iopub.status.idle": "2023-05-30T15:24:44.089585Z",
     "shell.execute_reply": "2023-05-30T15:24:44.088131Z"
    },
    "papermill": {
     "duration": 0.02792,
     "end_time": "2023-05-30T15:24:44.092462",
     "exception": false,
     "start_time": "2023-05-30T15:24:44.064542",
     "status": "completed"
    },
    "tags": []
   },
   "outputs": [],
   "source": [
    "house_train[\"LandContourCategory\"] = label_encoder.fit_transform(house_train[\"LandContour\"].astype(str))\n",
    "house_test[\"LandContourCategory\"] = label_encoder.fit_transform(house_test[\"LandContour\"].astype(str))\n",
    "del house_train[\"LandContour\"]\n",
    "del house_test[\"LandContour\"]"
   ]
  },
  {
   "cell_type": "code",
   "execution_count": 11,
   "id": "0c9b1bee",
   "metadata": {
    "execution": {
     "iopub.execute_input": "2023-05-30T15:24:44.116963Z",
     "iopub.status.busy": "2023-05-30T15:24:44.116357Z",
     "iopub.status.idle": "2023-05-30T15:24:44.210573Z",
     "shell.execute_reply": "2023-05-30T15:24:44.209203Z"
    },
    "papermill": {
     "duration": 0.110062,
     "end_time": "2023-05-30T15:24:44.213469",
     "exception": false,
     "start_time": "2023-05-30T15:24:44.103407",
     "status": "completed"
    },
    "tags": []
   },
   "outputs": [],
   "source": [
    "ce_OHE = ce.OneHotEncoder(cols=['Utilities'])\n",
    "house_train = ce_OHE.fit_transform(house_train)\n",
    "house_test = ce_OHE.fit_transform(house_test)"
   ]
  },
  {
   "cell_type": "code",
   "execution_count": 12,
   "id": "be971424",
   "metadata": {
    "execution": {
     "iopub.execute_input": "2023-05-30T15:24:44.238266Z",
     "iopub.status.busy": "2023-05-30T15:24:44.237385Z",
     "iopub.status.idle": "2023-05-30T15:24:44.248097Z",
     "shell.execute_reply": "2023-05-30T15:24:44.246858Z"
    },
    "papermill": {
     "duration": 0.02614,
     "end_time": "2023-05-30T15:24:44.250732",
     "exception": false,
     "start_time": "2023-05-30T15:24:44.224592",
     "status": "completed"
    },
    "tags": []
   },
   "outputs": [],
   "source": [
    "house_train[\"LotConfigCategory\"] = label_encoder.fit_transform(house_train[\"LotConfig\"].astype(str))\n",
    "house_test[\"LotConfigCategory\"] = label_encoder.fit_transform(house_test[\"LotConfig\"].astype(str))\n",
    "del house_train[\"LotConfig\"]\n",
    "del house_test[\"LotConfig\"]"
   ]
  },
  {
   "cell_type": "code",
   "execution_count": 13,
   "id": "0b603990",
   "metadata": {
    "execution": {
     "iopub.execute_input": "2023-05-30T15:24:44.275136Z",
     "iopub.status.busy": "2023-05-30T15:24:44.274102Z",
     "iopub.status.idle": "2023-05-30T15:24:44.284249Z",
     "shell.execute_reply": "2023-05-30T15:24:44.283317Z"
    },
    "papermill": {
     "duration": 0.024927,
     "end_time": "2023-05-30T15:24:44.286815",
     "exception": false,
     "start_time": "2023-05-30T15:24:44.261888",
     "status": "completed"
    },
    "tags": []
   },
   "outputs": [],
   "source": [
    "house_train[\"LandSlopeCategory\"] = label_encoder.fit_transform(house_train[\"LandSlope\"].astype(str))\n",
    "house_test[\"LandSlopeCategory\"] = label_encoder.fit_transform(house_test[\"LandSlope\"].astype(str))\n",
    "del house_train[\"LandSlope\"]\n",
    "del house_test[\"LandSlope\"]"
   ]
  },
  {
   "cell_type": "code",
   "execution_count": 14,
   "id": "4aa0ab80",
   "metadata": {
    "execution": {
     "iopub.execute_input": "2023-05-30T15:24:44.310526Z",
     "iopub.status.busy": "2023-05-30T15:24:44.309715Z",
     "iopub.status.idle": "2023-05-30T15:24:44.320726Z",
     "shell.execute_reply": "2023-05-30T15:24:44.319333Z"
    },
    "papermill": {
     "duration": 0.026011,
     "end_time": "2023-05-30T15:24:44.323552",
     "exception": false,
     "start_time": "2023-05-30T15:24:44.297541",
     "status": "completed"
    },
    "tags": []
   },
   "outputs": [],
   "source": [
    "house_train[\"NeighborhoodCategory\"] = label_encoder.fit_transform(house_train[\"Neighborhood\"].astype(str))\n",
    "house_test[\"NeighborhoodCategory\"] = label_encoder.fit_transform(house_test[\"Neighborhood\"].astype(str))\n",
    "del house_train[\"Neighborhood\"]\n",
    "del house_test[\"Neighborhood\"]"
   ]
  },
  {
   "cell_type": "code",
   "execution_count": 15,
   "id": "fee591d0",
   "metadata": {
    "execution": {
     "iopub.execute_input": "2023-05-30T15:24:44.347011Z",
     "iopub.status.busy": "2023-05-30T15:24:44.346541Z",
     "iopub.status.idle": "2023-05-30T15:24:44.358754Z",
     "shell.execute_reply": "2023-05-30T15:24:44.357224Z"
    },
    "papermill": {
     "duration": 0.027199,
     "end_time": "2023-05-30T15:24:44.361533",
     "exception": false,
     "start_time": "2023-05-30T15:24:44.334334",
     "status": "completed"
    },
    "tags": []
   },
   "outputs": [],
   "source": [
    "house_train[\"SaleTypeCategory\"] = label_encoder.fit_transform(house_train[\"SaleType\"].astype(str))\n",
    "house_test[\"SaleTypeCategory\"] = label_encoder.fit_transform(house_test[\"SaleType\"].astype(str))\n",
    "del house_train[\"SaleType\"]\n",
    "del house_test[\"SaleType\"]"
   ]
  },
  {
   "cell_type": "code",
   "execution_count": 16,
   "id": "282c20d9",
   "metadata": {
    "execution": {
     "iopub.execute_input": "2023-05-30T15:24:44.386404Z",
     "iopub.status.busy": "2023-05-30T15:24:44.385971Z",
     "iopub.status.idle": "2023-05-30T15:24:44.397635Z",
     "shell.execute_reply": "2023-05-30T15:24:44.396655Z"
    },
    "papermill": {
     "duration": 0.028177,
     "end_time": "2023-05-30T15:24:44.400421",
     "exception": false,
     "start_time": "2023-05-30T15:24:44.372244",
     "status": "completed"
    },
    "tags": []
   },
   "outputs": [],
   "source": [
    "house_train[\"SaleConditionCategory\"] = label_encoder.fit_transform(house_train[\"SaleCondition\"].astype(str))\n",
    "house_test[\"SaleConditionCategory\"] = label_encoder.fit_transform(house_test[\"SaleCondition\"].astype(str))\n",
    "del house_train[\"SaleCondition\"]\n",
    "del house_test[\"SaleCondition\"]"
   ]
  },
  {
   "cell_type": "code",
   "execution_count": 17,
   "id": "8c882ee6",
   "metadata": {
    "execution": {
     "iopub.execute_input": "2023-05-30T15:24:44.424587Z",
     "iopub.status.busy": "2023-05-30T15:24:44.424163Z",
     "iopub.status.idle": "2023-05-30T15:24:44.435474Z",
     "shell.execute_reply": "2023-05-30T15:24:44.434159Z"
    },
    "papermill": {
     "duration": 0.026085,
     "end_time": "2023-05-30T15:24:44.437971",
     "exception": false,
     "start_time": "2023-05-30T15:24:44.411886",
     "status": "completed"
    },
    "tags": []
   },
   "outputs": [],
   "source": [
    "house_train[\"Condition1Category\"] = label_encoder.fit_transform(house_train[\"Condition1\"].astype(str))\n",
    "house_test[\"Condition1Category\"] = label_encoder.fit_transform(house_test[\"Condition1\"].astype(str))\n",
    "del house_train[\"Condition1\"]\n",
    "del house_test[\"Condition1\"]"
   ]
  },
  {
   "cell_type": "code",
   "execution_count": 18,
   "id": "f88d19e1",
   "metadata": {
    "execution": {
     "iopub.execute_input": "2023-05-30T15:24:44.461550Z",
     "iopub.status.busy": "2023-05-30T15:24:44.460841Z",
     "iopub.status.idle": "2023-05-30T15:24:44.471576Z",
     "shell.execute_reply": "2023-05-30T15:24:44.470571Z"
    },
    "papermill": {
     "duration": 0.025529,
     "end_time": "2023-05-30T15:24:44.474263",
     "exception": false,
     "start_time": "2023-05-30T15:24:44.448734",
     "status": "completed"
    },
    "tags": []
   },
   "outputs": [],
   "source": [
    "house_train[\"Condition2Category\"] = label_encoder.fit_transform(house_train[\"Condition2\"].astype(str))\n",
    "house_test[\"Condition2Category\"] = label_encoder.fit_transform(house_test[\"Condition2\"].astype(str))\n",
    "del house_train[\"Condition2\"]\n",
    "del house_test[\"Condition2\"]"
   ]
  },
  {
   "cell_type": "code",
   "execution_count": 19,
   "id": "6c83041e",
   "metadata": {
    "execution": {
     "iopub.execute_input": "2023-05-30T15:24:44.498239Z",
     "iopub.status.busy": "2023-05-30T15:24:44.497209Z",
     "iopub.status.idle": "2023-05-30T15:24:44.533257Z",
     "shell.execute_reply": "2023-05-30T15:24:44.531999Z"
    },
    "papermill": {
     "duration": 0.050909,
     "end_time": "2023-05-30T15:24:44.536245",
     "exception": false,
     "start_time": "2023-05-30T15:24:44.485336",
     "status": "completed"
    },
    "tags": []
   },
   "outputs": [],
   "source": [
    "for column in house_train.columns:\n",
    "    if house_train[column].dtype == 'object':\n",
    "        house_train[column] = label_encoder.fit_transform(house_train[column])"
   ]
  },
  {
   "cell_type": "code",
   "execution_count": 20,
   "id": "26039a91",
   "metadata": {
    "execution": {
     "iopub.execute_input": "2023-05-30T15:24:44.559343Z",
     "iopub.status.busy": "2023-05-30T15:24:44.558919Z",
     "iopub.status.idle": "2023-05-30T15:24:44.599774Z",
     "shell.execute_reply": "2023-05-30T15:24:44.597993Z"
    },
    "papermill": {
     "duration": 0.056306,
     "end_time": "2023-05-30T15:24:44.603310",
     "exception": false,
     "start_time": "2023-05-30T15:24:44.547004",
     "status": "completed"
    },
    "tags": []
   },
   "outputs": [],
   "source": [
    "for column in house_test.columns:\n",
    "    if house_test[column].dtype == 'object':\n",
    "        house_test[column] = label_encoder.fit_transform(house_test[column])"
   ]
  },
  {
   "cell_type": "code",
   "execution_count": 21,
   "id": "698ee6bb",
   "metadata": {
    "execution": {
     "iopub.execute_input": "2023-05-30T15:24:44.636141Z",
     "iopub.status.busy": "2023-05-30T15:24:44.633689Z",
     "iopub.status.idle": "2023-05-30T15:24:44.652589Z",
     "shell.execute_reply": "2023-05-30T15:24:44.651228Z"
    },
    "papermill": {
     "duration": 0.038629,
     "end_time": "2023-05-30T15:24:44.655602",
     "exception": false,
     "start_time": "2023-05-30T15:24:44.616973",
     "status": "completed"
    },
    "tags": []
   },
   "outputs": [],
   "source": [
    "columns_with_missing = house_train.columns[house_train.isnull().any()].tolist()\n",
    "\n",
    "# Perform mode imputation on columns with missing values\n",
    "for column in columns_with_missing:\n",
    "    # Create a SimpleImputer with strategy='most_frequent' for mode imputation\n",
    "    imputer = SimpleImputer(strategy='most_frequent')\n",
    "\n",
    "    # Reshape the column to match the imputer's expected input shape\n",
    "    column_values = house_train[column].values.reshape(-1, 1)\n",
    "\n",
    "    # Perform mode imputation\n",
    "    imputed_values = imputer.fit_transform(column_values)\n",
    "\n",
    "    # Replace missing values with imputed values in the DataFrame\n",
    "    house_train[column] = imputed_values"
   ]
  },
  {
   "cell_type": "code",
   "execution_count": 22,
   "id": "66ff0b72",
   "metadata": {
    "execution": {
     "iopub.execute_input": "2023-05-30T15:24:44.682011Z",
     "iopub.status.busy": "2023-05-30T15:24:44.681592Z",
     "iopub.status.idle": "2023-05-30T15:24:44.707526Z",
     "shell.execute_reply": "2023-05-30T15:24:44.706352Z"
    },
    "papermill": {
     "duration": 0.043514,
     "end_time": "2023-05-30T15:24:44.710333",
     "exception": false,
     "start_time": "2023-05-30T15:24:44.666819",
     "status": "completed"
    },
    "tags": []
   },
   "outputs": [],
   "source": [
    "columns_with_missing = house_test.columns[house_test.isnull().any()].tolist()\n",
    "\n",
    "for column in columns_with_missing:\n",
    "    imputer = SimpleImputer(strategy='most_frequent')\n",
    "\n",
    "    column_values = house_test[column].values.reshape(-1, 1)\n",
    "\n",
    "    imputed_values = imputer.fit_transform(column_values)\n",
    "\n",
    "    house_test[column] = imputed_values"
   ]
  },
  {
   "cell_type": "code",
   "execution_count": 23,
   "id": "8f990bc5",
   "metadata": {
    "execution": {
     "iopub.execute_input": "2023-05-30T15:24:44.733931Z",
     "iopub.status.busy": "2023-05-30T15:24:44.733493Z",
     "iopub.status.idle": "2023-05-30T15:24:44.748050Z",
     "shell.execute_reply": "2023-05-30T15:24:44.746742Z"
    },
    "papermill": {
     "duration": 0.029606,
     "end_time": "2023-05-30T15:24:44.750753",
     "exception": false,
     "start_time": "2023-05-30T15:24:44.721147",
     "status": "completed"
    },
    "tags": []
   },
   "outputs": [],
   "source": [
    "from sklearn.model_selection import train_test_split\n",
    "\n",
    "train_x, test_x, train_y, test_y = train_test_split(house_train.drop(\"SalePrice\", axis=1), house_train[\"SalePrice\"], test_size=0.2, random_state=42)"
   ]
  },
  {
   "cell_type": "code",
   "execution_count": 24,
   "id": "f78f8e18",
   "metadata": {
    "execution": {
     "iopub.execute_input": "2023-05-30T15:24:44.774107Z",
     "iopub.status.busy": "2023-05-30T15:24:44.773680Z",
     "iopub.status.idle": "2023-05-30T15:24:46.164995Z",
     "shell.execute_reply": "2023-05-30T15:24:46.164052Z"
    },
    "papermill": {
     "duration": 1.406129,
     "end_time": "2023-05-30T15:24:46.167657",
     "exception": false,
     "start_time": "2023-05-30T15:24:44.761528",
     "status": "completed"
    },
    "tags": []
   },
   "outputs": [
    {
     "name": "stderr",
     "output_type": "stream",
     "text": [
      "/opt/conda/lib/python3.10/site-packages/xgboost/sklearn.py:835: UserWarning: `early_stopping_rounds` in `fit` method is deprecated for better compatibility with scikit-learn, use `early_stopping_rounds` in constructor or`set_params` instead.\n",
      "  warnings.warn(\n"
     ]
    },
    {
     "name": "stdout",
     "output_type": "stream",
     "text": [
      "15838.231993792808\n"
     ]
    }
   ],
   "source": [
    "from sklearn.metrics import mean_absolute_error\n",
    "from xgboost import XGBRegressor\n",
    "\n",
    "my_model = XGBRegressor(n_estimators=300, learning_rate=0.1)\n",
    "my_model.fit(train_x, train_y, early_stopping_rounds=50, \n",
    "             eval_set=[(test_x, test_y)], verbose=False)\n",
    "\n",
    "predictions = my_model.predict(test_x)\n",
    "\n",
    "print(mean_absolute_error(test_y, predictions))"
   ]
  },
  {
   "cell_type": "code",
   "execution_count": 25,
   "id": "717d380c",
   "metadata": {
    "execution": {
     "iopub.execute_input": "2023-05-30T15:24:46.192944Z",
     "iopub.status.busy": "2023-05-30T15:24:46.192505Z",
     "iopub.status.idle": "2023-05-30T15:24:52.403144Z",
     "shell.execute_reply": "2023-05-30T15:24:52.401974Z"
    },
    "papermill": {
     "duration": 6.225302,
     "end_time": "2023-05-30T15:24:52.405701",
     "exception": false,
     "start_time": "2023-05-30T15:24:46.180399",
     "status": "completed"
    },
    "tags": []
   },
   "outputs": [
    {
     "name": "stderr",
     "output_type": "stream",
     "text": [
      "/opt/conda/lib/python3.10/site-packages/xgboost/sklearn.py:835: UserWarning: `early_stopping_rounds` in `fit` method is deprecated for better compatibility with scikit-learn, use `early_stopping_rounds` in constructor or`set_params` instead.\n",
      "  warnings.warn(\n"
     ]
    },
    {
     "data": {
      "text/html": [
       "<style>#sk-container-id-1 {color: black;background-color: white;}#sk-container-id-1 pre{padding: 0;}#sk-container-id-1 div.sk-toggleable {background-color: white;}#sk-container-id-1 label.sk-toggleable__label {cursor: pointer;display: block;width: 100%;margin-bottom: 0;padding: 0.3em;box-sizing: border-box;text-align: center;}#sk-container-id-1 label.sk-toggleable__label-arrow:before {content: \"▸\";float: left;margin-right: 0.25em;color: #696969;}#sk-container-id-1 label.sk-toggleable__label-arrow:hover:before {color: black;}#sk-container-id-1 div.sk-estimator:hover label.sk-toggleable__label-arrow:before {color: black;}#sk-container-id-1 div.sk-toggleable__content {max-height: 0;max-width: 0;overflow: hidden;text-align: left;background-color: #f0f8ff;}#sk-container-id-1 div.sk-toggleable__content pre {margin: 0.2em;color: black;border-radius: 0.25em;background-color: #f0f8ff;}#sk-container-id-1 input.sk-toggleable__control:checked~div.sk-toggleable__content {max-height: 200px;max-width: 100%;overflow: auto;}#sk-container-id-1 input.sk-toggleable__control:checked~label.sk-toggleable__label-arrow:before {content: \"▾\";}#sk-container-id-1 div.sk-estimator input.sk-toggleable__control:checked~label.sk-toggleable__label {background-color: #d4ebff;}#sk-container-id-1 div.sk-label input.sk-toggleable__control:checked~label.sk-toggleable__label {background-color: #d4ebff;}#sk-container-id-1 input.sk-hidden--visually {border: 0;clip: rect(1px 1px 1px 1px);clip: rect(1px, 1px, 1px, 1px);height: 1px;margin: -1px;overflow: hidden;padding: 0;position: absolute;width: 1px;}#sk-container-id-1 div.sk-estimator {font-family: monospace;background-color: #f0f8ff;border: 1px dotted black;border-radius: 0.25em;box-sizing: border-box;margin-bottom: 0.5em;}#sk-container-id-1 div.sk-estimator:hover {background-color: #d4ebff;}#sk-container-id-1 div.sk-parallel-item::after {content: \"\";width: 100%;border-bottom: 1px solid gray;flex-grow: 1;}#sk-container-id-1 div.sk-label:hover label.sk-toggleable__label {background-color: #d4ebff;}#sk-container-id-1 div.sk-serial::before {content: \"\";position: absolute;border-left: 1px solid gray;box-sizing: border-box;top: 0;bottom: 0;left: 50%;z-index: 0;}#sk-container-id-1 div.sk-serial {display: flex;flex-direction: column;align-items: center;background-color: white;padding-right: 0.2em;padding-left: 0.2em;position: relative;}#sk-container-id-1 div.sk-item {position: relative;z-index: 1;}#sk-container-id-1 div.sk-parallel {display: flex;align-items: stretch;justify-content: center;background-color: white;position: relative;}#sk-container-id-1 div.sk-item::before, #sk-container-id-1 div.sk-parallel-item::before {content: \"\";position: absolute;border-left: 1px solid gray;box-sizing: border-box;top: 0;bottom: 0;left: 50%;z-index: -1;}#sk-container-id-1 div.sk-parallel-item {display: flex;flex-direction: column;z-index: 1;position: relative;background-color: white;}#sk-container-id-1 div.sk-parallel-item:first-child::after {align-self: flex-end;width: 50%;}#sk-container-id-1 div.sk-parallel-item:last-child::after {align-self: flex-start;width: 50%;}#sk-container-id-1 div.sk-parallel-item:only-child::after {width: 0;}#sk-container-id-1 div.sk-dashed-wrapped {border: 1px dashed gray;margin: 0 0.4em 0.5em 0.4em;box-sizing: border-box;padding-bottom: 0.4em;background-color: white;}#sk-container-id-1 div.sk-label label {font-family: monospace;font-weight: bold;display: inline-block;line-height: 1.2em;}#sk-container-id-1 div.sk-label-container {text-align: center;}#sk-container-id-1 div.sk-container {/* jupyter's `normalize.less` sets `[hidden] { display: none; }` but bootstrap.min.css set `[hidden] { display: none !important; }` so we also need the `!important` here to be able to override the default hidden behavior on the sphinx rendered scikit-learn.org. See: https://github.com/scikit-learn/scikit-learn/issues/21755 */display: inline-block !important;position: relative;}#sk-container-id-1 div.sk-text-repr-fallback {display: none;}</style><div id=\"sk-container-id-1\" class=\"sk-top-container\"><div class=\"sk-text-repr-fallback\"><pre>XGBRegressor(base_score=None, booster=None, callbacks=None,\n",
       "             colsample_bylevel=None, colsample_bynode=None,\n",
       "             colsample_bytree=None, early_stopping_rounds=None,\n",
       "             enable_categorical=False, eval_metric=None, feature_types=None,\n",
       "             gamma=None, gpu_id=None, grow_policy=None, importance_type=None,\n",
       "             interaction_constraints=None, learning_rate=0.08, max_bin=None,\n",
       "             max_cat_threshold=None, max_cat_to_onehot=None,\n",
       "             max_delta_step=None, max_depth=None, max_leaves=None,\n",
       "             min_child_weight=None, missing=nan, monotone_constraints=None,\n",
       "             n_estimators=1000, n_jobs=None, num_parallel_tree=None,\n",
       "             predictor=None, random_state=None, ...)</pre><b>In a Jupyter environment, please rerun this cell to show the HTML representation or trust the notebook. <br />On GitHub, the HTML representation is unable to render, please try loading this page with nbviewer.org.</b></div><div class=\"sk-container\" hidden><div class=\"sk-item\"><div class=\"sk-estimator sk-toggleable\"><input class=\"sk-toggleable__control sk-hidden--visually\" id=\"sk-estimator-id-1\" type=\"checkbox\" checked><label for=\"sk-estimator-id-1\" class=\"sk-toggleable__label sk-toggleable__label-arrow\">XGBRegressor</label><div class=\"sk-toggleable__content\"><pre>XGBRegressor(base_score=None, booster=None, callbacks=None,\n",
       "             colsample_bylevel=None, colsample_bynode=None,\n",
       "             colsample_bytree=None, early_stopping_rounds=None,\n",
       "             enable_categorical=False, eval_metric=None, feature_types=None,\n",
       "             gamma=None, gpu_id=None, grow_policy=None, importance_type=None,\n",
       "             interaction_constraints=None, learning_rate=0.08, max_bin=None,\n",
       "             max_cat_threshold=None, max_cat_to_onehot=None,\n",
       "             max_delta_step=None, max_depth=None, max_leaves=None,\n",
       "             min_child_weight=None, missing=nan, monotone_constraints=None,\n",
       "             n_estimators=1000, n_jobs=None, num_parallel_tree=None,\n",
       "             predictor=None, random_state=None, ...)</pre></div></div></div></div></div>"
      ],
      "text/plain": [
       "XGBRegressor(base_score=None, booster=None, callbacks=None,\n",
       "             colsample_bylevel=None, colsample_bynode=None,\n",
       "             colsample_bytree=None, early_stopping_rounds=None,\n",
       "             enable_categorical=False, eval_metric=None, feature_types=None,\n",
       "             gamma=None, gpu_id=None, grow_policy=None, importance_type=None,\n",
       "             interaction_constraints=None, learning_rate=0.08, max_bin=None,\n",
       "             max_cat_threshold=None, max_cat_to_onehot=None,\n",
       "             max_delta_step=None, max_depth=None, max_leaves=None,\n",
       "             min_child_weight=None, missing=nan, monotone_constraints=None,\n",
       "             n_estimators=1000, n_jobs=None, num_parallel_tree=None,\n",
       "             predictor=None, random_state=None, ...)"
      ]
     },
     "execution_count": 25,
     "metadata": {},
     "output_type": "execute_result"
    }
   ],
   "source": [
    "XGB_model_on_full_data = XGBRegressor(n_estimators=1000, learning_rate=0.08)\n",
    "XGB_model_on_full_data.fit(house_train.drop(\"SalePrice\", axis=1), house_train[\"SalePrice\"], early_stopping_rounds=50,\n",
    "                           eval_set=[(house_train.drop(\"SalePrice\", axis=1), house_train[\"SalePrice\"])], verbose=False)"
   ]
  },
  {
   "cell_type": "code",
   "execution_count": 26,
   "id": "dac04771",
   "metadata": {
    "execution": {
     "iopub.execute_input": "2023-05-30T15:24:52.430766Z",
     "iopub.status.busy": "2023-05-30T15:24:52.430292Z",
     "iopub.status.idle": "2023-05-30T15:24:52.463942Z",
     "shell.execute_reply": "2023-05-30T15:24:52.463011Z"
    },
    "papermill": {
     "duration": 0.049315,
     "end_time": "2023-05-30T15:24:52.466647",
     "exception": false,
     "start_time": "2023-05-30T15:24:52.417332",
     "status": "completed"
    },
    "tags": []
   },
   "outputs": [],
   "source": [
    "test_preds = XGB_model_on_full_data.predict(house_test).astype(int)"
   ]
  },
  {
   "cell_type": "code",
   "execution_count": 27,
   "id": "56a0520c",
   "metadata": {
    "execution": {
     "iopub.execute_input": "2023-05-30T15:24:52.492679Z",
     "iopub.status.busy": "2023-05-30T15:24:52.492101Z",
     "iopub.status.idle": "2023-05-30T15:24:52.499377Z",
     "shell.execute_reply": "2023-05-30T15:24:52.498240Z"
    },
    "papermill": {
     "duration": 0.022822,
     "end_time": "2023-05-30T15:24:52.502010",
     "exception": false,
     "start_time": "2023-05-30T15:24:52.479188",
     "status": "completed"
    },
    "tags": []
   },
   "outputs": [
    {
     "data": {
      "text/plain": [
       "1459"
      ]
     },
     "execution_count": 27,
     "metadata": {},
     "output_type": "execute_result"
    }
   ],
   "source": [
    "len(test_preds)"
   ]
  },
  {
   "cell_type": "code",
   "execution_count": 28,
   "id": "105b217b",
   "metadata": {
    "execution": {
     "iopub.execute_input": "2023-05-30T15:24:52.527259Z",
     "iopub.status.busy": "2023-05-30T15:24:52.526839Z",
     "iopub.status.idle": "2023-05-30T15:24:52.542948Z",
     "shell.execute_reply": "2023-05-30T15:24:52.541895Z"
    },
    "papermill": {
     "duration": 0.031976,
     "end_time": "2023-05-30T15:24:52.545697",
     "exception": false,
     "start_time": "2023-05-30T15:24:52.513721",
     "status": "completed"
    },
    "tags": []
   },
   "outputs": [],
   "source": [
    "output = pd.DataFrame({'Id': house_test['Id'],\n",
    "                       'SalePrice': test_preds})\n",
    "output.to_csv('submission.csv', index=False)"
   ]
  },
  {
   "cell_type": "code",
   "execution_count": 29,
   "id": "4ae2ba76",
   "metadata": {
    "execution": {
     "iopub.execute_input": "2023-05-30T15:24:52.570544Z",
     "iopub.status.busy": "2023-05-30T15:24:52.570155Z",
     "iopub.status.idle": "2023-05-30T15:24:52.582601Z",
     "shell.execute_reply": "2023-05-30T15:24:52.581397Z"
    },
    "papermill": {
     "duration": 0.027999,
     "end_time": "2023-05-30T15:24:52.585167",
     "exception": false,
     "start_time": "2023-05-30T15:24:52.557168",
     "status": "completed"
    },
    "tags": []
   },
   "outputs": [
    {
     "data": {
      "text/html": [
       "<div>\n",
       "<style scoped>\n",
       "    .dataframe tbody tr th:only-of-type {\n",
       "        vertical-align: middle;\n",
       "    }\n",
       "\n",
       "    .dataframe tbody tr th {\n",
       "        vertical-align: top;\n",
       "    }\n",
       "\n",
       "    .dataframe thead th {\n",
       "        text-align: right;\n",
       "    }\n",
       "</style>\n",
       "<table border=\"1\" class=\"dataframe\">\n",
       "  <thead>\n",
       "    <tr style=\"text-align: right;\">\n",
       "      <th></th>\n",
       "      <th>Id</th>\n",
       "      <th>SalePrice</th>\n",
       "    </tr>\n",
       "  </thead>\n",
       "  <tbody>\n",
       "    <tr>\n",
       "      <th>0</th>\n",
       "      <td>1461</td>\n",
       "      <td>122500</td>\n",
       "    </tr>\n",
       "    <tr>\n",
       "      <th>1</th>\n",
       "      <td>1462</td>\n",
       "      <td>161253</td>\n",
       "    </tr>\n",
       "    <tr>\n",
       "      <th>2</th>\n",
       "      <td>1463</td>\n",
       "      <td>184546</td>\n",
       "    </tr>\n",
       "    <tr>\n",
       "      <th>3</th>\n",
       "      <td>1464</td>\n",
       "      <td>195276</td>\n",
       "    </tr>\n",
       "    <tr>\n",
       "      <th>4</th>\n",
       "      <td>1465</td>\n",
       "      <td>190867</td>\n",
       "    </tr>\n",
       "    <tr>\n",
       "      <th>...</th>\n",
       "      <td>...</td>\n",
       "      <td>...</td>\n",
       "    </tr>\n",
       "    <tr>\n",
       "      <th>1454</th>\n",
       "      <td>2915</td>\n",
       "      <td>82421</td>\n",
       "    </tr>\n",
       "    <tr>\n",
       "      <th>1455</th>\n",
       "      <td>2916</td>\n",
       "      <td>85293</td>\n",
       "    </tr>\n",
       "    <tr>\n",
       "      <th>1456</th>\n",
       "      <td>2917</td>\n",
       "      <td>164458</td>\n",
       "    </tr>\n",
       "    <tr>\n",
       "      <th>1457</th>\n",
       "      <td>2918</td>\n",
       "      <td>108792</td>\n",
       "    </tr>\n",
       "    <tr>\n",
       "      <th>1458</th>\n",
       "      <td>2919</td>\n",
       "      <td>218626</td>\n",
       "    </tr>\n",
       "  </tbody>\n",
       "</table>\n",
       "<p>1459 rows × 2 columns</p>\n",
       "</div>"
      ],
      "text/plain": [
       "        Id  SalePrice\n",
       "0     1461     122500\n",
       "1     1462     161253\n",
       "2     1463     184546\n",
       "3     1464     195276\n",
       "4     1465     190867\n",
       "...    ...        ...\n",
       "1454  2915      82421\n",
       "1455  2916      85293\n",
       "1456  2917     164458\n",
       "1457  2918     108792\n",
       "1458  2919     218626\n",
       "\n",
       "[1459 rows x 2 columns]"
      ]
     },
     "execution_count": 29,
     "metadata": {},
     "output_type": "execute_result"
    }
   ],
   "source": [
    "output"
   ]
  }
 ],
 "metadata": {
  "kernelspec": {
   "display_name": "Python 3",
   "language": "python",
   "name": "python3"
  },
  "language_info": {
   "codemirror_mode": {
    "name": "ipython",
    "version": 3
   },
   "file_extension": ".py",
   "mimetype": "text/x-python",
   "name": "python",
   "nbconvert_exporter": "python",
   "pygments_lexer": "ipython3",
   "version": "3.10.10"
  },
  "papermill": {
   "default_parameters": {},
   "duration": 27.729579,
   "end_time": "2023-05-30T15:24:53.720773",
   "environment_variables": {},
   "exception": null,
   "input_path": "__notebook__.ipynb",
   "output_path": "__notebook__.ipynb",
   "parameters": {},
   "start_time": "2023-05-30T15:24:25.991194",
   "version": "2.4.0"
  }
 },
 "nbformat": 4,
 "nbformat_minor": 5
}
